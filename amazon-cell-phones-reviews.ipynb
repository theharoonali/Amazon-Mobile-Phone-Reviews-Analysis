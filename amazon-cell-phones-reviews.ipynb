{
 "cells": [
  {
   "cell_type": "markdown",
   "metadata": {},
   "source": [
    "**Importing Libraries and datasets**"
   ]
  },
  {
   "cell_type": "code",
   "execution_count": 1,
   "metadata": {},
   "outputs": [],
   "source": [
    "import numpy as np\n",
    "import pandas as pd\n",
    "import matplotlib.pyplot as plt\n",
    "import seaborn as sns"
   ]
  },
  {
   "cell_type": "code",
   "execution_count": 2,
   "metadata": {},
   "outputs": [],
   "source": [
    "item = pd.read_csv('items.csv')\n",
    "#item.head()"
   ]
  },
  {
   "cell_type": "code",
   "execution_count": 3,
   "metadata": {},
   "outputs": [
    {
     "name": "stderr",
     "output_type": "stream",
     "text": [
      "C:\\Users\\Haroon\\AppData\\Local\\Temp\\ipykernel_10144\\2538011294.py:1: DtypeWarning: Columns (4) have mixed types. Specify dtype option on import or set low_memory=False.\n",
      "  review = pd.read_csv('reviews.csv')\n"
     ]
    }
   ],
   "source": [
    "review = pd.read_csv('reviews.csv')\n",
    "#review.head()"
   ]
  },
  {
   "cell_type": "code",
   "execution_count": 4,
   "metadata": {},
   "outputs": [
    {
     "data": {
      "text/html": [
       "<div>\n",
       "<style scoped>\n",
       "    .dataframe tbody tr th:only-of-type {\n",
       "        vertical-align: middle;\n",
       "    }\n",
       "\n",
       "    .dataframe tbody tr th {\n",
       "        vertical-align: top;\n",
       "    }\n",
       "\n",
       "    .dataframe thead th {\n",
       "        text-align: right;\n",
       "    }\n",
       "</style>\n",
       "<table border=\"1\" class=\"dataframe\">\n",
       "  <thead>\n",
       "    <tr style=\"text-align: right;\">\n",
       "      <th></th>\n",
       "      <th>asin</th>\n",
       "      <th>brand</th>\n",
       "      <th>title_x</th>\n",
       "      <th>url</th>\n",
       "      <th>image</th>\n",
       "      <th>rating_x</th>\n",
       "      <th>reviewUrl</th>\n",
       "      <th>totalReviews</th>\n",
       "      <th>price</th>\n",
       "      <th>originalPrice</th>\n",
       "      <th>name</th>\n",
       "      <th>rating_y</th>\n",
       "      <th>date</th>\n",
       "      <th>verified</th>\n",
       "      <th>title_y</th>\n",
       "      <th>body</th>\n",
       "      <th>helpfulVotes</th>\n",
       "    </tr>\n",
       "  </thead>\n",
       "  <tbody>\n",
       "    <tr>\n",
       "      <th>0</th>\n",
       "      <td>B0000SX2UC</td>\n",
       "      <td>NaN</td>\n",
       "      <td>Dual-Band / Tri-Mode Sprint PCS Phone w/ Voice...</td>\n",
       "      <td>https://www.amazon.com/Dual-Band-Tri-Mode-Acti...</td>\n",
       "      <td>https://m.media-amazon.com/images/I/2143EBQ210...</td>\n",
       "      <td>3.0</td>\n",
       "      <td>https://www.amazon.com/product-reviews/B0000SX2UC</td>\n",
       "      <td>14.0</td>\n",
       "      <td>0.0</td>\n",
       "      <td>0.0</td>\n",
       "      <td>Janet</td>\n",
       "      <td>3.0</td>\n",
       "      <td>October 11, 2005</td>\n",
       "      <td>False</td>\n",
       "      <td>Def not best, but not worst</td>\n",
       "      <td>I had the Samsung A600 for awhile which is abs...</td>\n",
       "      <td>1.0</td>\n",
       "    </tr>\n",
       "    <tr>\n",
       "      <th>1</th>\n",
       "      <td>B0000SX2UC</td>\n",
       "      <td>NaN</td>\n",
       "      <td>Dual-Band / Tri-Mode Sprint PCS Phone w/ Voice...</td>\n",
       "      <td>https://www.amazon.com/Dual-Band-Tri-Mode-Acti...</td>\n",
       "      <td>https://m.media-amazon.com/images/I/2143EBQ210...</td>\n",
       "      <td>3.0</td>\n",
       "      <td>https://www.amazon.com/product-reviews/B0000SX2UC</td>\n",
       "      <td>14.0</td>\n",
       "      <td>0.0</td>\n",
       "      <td>0.0</td>\n",
       "      <td>Luke Wyatt</td>\n",
       "      <td>1.0</td>\n",
       "      <td>January 7, 2004</td>\n",
       "      <td>False</td>\n",
       "      <td>Text Messaging Doesn't Work</td>\n",
       "      <td>Due to a software issue between Nokia and Spri...</td>\n",
       "      <td>17.0</td>\n",
       "    </tr>\n",
       "    <tr>\n",
       "      <th>2</th>\n",
       "      <td>B0000SX2UC</td>\n",
       "      <td>NaN</td>\n",
       "      <td>Dual-Band / Tri-Mode Sprint PCS Phone w/ Voice...</td>\n",
       "      <td>https://www.amazon.com/Dual-Band-Tri-Mode-Acti...</td>\n",
       "      <td>https://m.media-amazon.com/images/I/2143EBQ210...</td>\n",
       "      <td>3.0</td>\n",
       "      <td>https://www.amazon.com/product-reviews/B0000SX2UC</td>\n",
       "      <td>14.0</td>\n",
       "      <td>0.0</td>\n",
       "      <td>0.0</td>\n",
       "      <td>Brooke</td>\n",
       "      <td>5.0</td>\n",
       "      <td>December 30, 2003</td>\n",
       "      <td>False</td>\n",
       "      <td>Love This Phone</td>\n",
       "      <td>This is a great, reliable phone. I also purcha...</td>\n",
       "      <td>5.0</td>\n",
       "    </tr>\n",
       "    <tr>\n",
       "      <th>3</th>\n",
       "      <td>B0000SX2UC</td>\n",
       "      <td>NaN</td>\n",
       "      <td>Dual-Band / Tri-Mode Sprint PCS Phone w/ Voice...</td>\n",
       "      <td>https://www.amazon.com/Dual-Band-Tri-Mode-Acti...</td>\n",
       "      <td>https://m.media-amazon.com/images/I/2143EBQ210...</td>\n",
       "      <td>3.0</td>\n",
       "      <td>https://www.amazon.com/product-reviews/B0000SX2UC</td>\n",
       "      <td>14.0</td>\n",
       "      <td>0.0</td>\n",
       "      <td>0.0</td>\n",
       "      <td>amy m. teague</td>\n",
       "      <td>3.0</td>\n",
       "      <td>March 18, 2004</td>\n",
       "      <td>False</td>\n",
       "      <td>Love the Phone, BUT...!</td>\n",
       "      <td>I love the phone and all, because I really did...</td>\n",
       "      <td>1.0</td>\n",
       "    </tr>\n",
       "    <tr>\n",
       "      <th>4</th>\n",
       "      <td>B0000SX2UC</td>\n",
       "      <td>NaN</td>\n",
       "      <td>Dual-Band / Tri-Mode Sprint PCS Phone w/ Voice...</td>\n",
       "      <td>https://www.amazon.com/Dual-Band-Tri-Mode-Acti...</td>\n",
       "      <td>https://m.media-amazon.com/images/I/2143EBQ210...</td>\n",
       "      <td>3.0</td>\n",
       "      <td>https://www.amazon.com/product-reviews/B0000SX2UC</td>\n",
       "      <td>14.0</td>\n",
       "      <td>0.0</td>\n",
       "      <td>0.0</td>\n",
       "      <td>tristazbimmer</td>\n",
       "      <td>4.0</td>\n",
       "      <td>August 28, 2005</td>\n",
       "      <td>False</td>\n",
       "      <td>Great phone service and options, lousy case!</td>\n",
       "      <td>The phone has been great for every purpose it ...</td>\n",
       "      <td>1.0</td>\n",
       "    </tr>\n",
       "  </tbody>\n",
       "</table>\n",
       "</div>"
      ],
      "text/plain": [
       "         asin brand                                            title_x  \\\n",
       "0  B0000SX2UC   NaN  Dual-Band / Tri-Mode Sprint PCS Phone w/ Voice...   \n",
       "1  B0000SX2UC   NaN  Dual-Band / Tri-Mode Sprint PCS Phone w/ Voice...   \n",
       "2  B0000SX2UC   NaN  Dual-Band / Tri-Mode Sprint PCS Phone w/ Voice...   \n",
       "3  B0000SX2UC   NaN  Dual-Band / Tri-Mode Sprint PCS Phone w/ Voice...   \n",
       "4  B0000SX2UC   NaN  Dual-Band / Tri-Mode Sprint PCS Phone w/ Voice...   \n",
       "\n",
       "                                                 url  \\\n",
       "0  https://www.amazon.com/Dual-Band-Tri-Mode-Acti...   \n",
       "1  https://www.amazon.com/Dual-Band-Tri-Mode-Acti...   \n",
       "2  https://www.amazon.com/Dual-Band-Tri-Mode-Acti...   \n",
       "3  https://www.amazon.com/Dual-Band-Tri-Mode-Acti...   \n",
       "4  https://www.amazon.com/Dual-Band-Tri-Mode-Acti...   \n",
       "\n",
       "                                               image  rating_x  \\\n",
       "0  https://m.media-amazon.com/images/I/2143EBQ210...       3.0   \n",
       "1  https://m.media-amazon.com/images/I/2143EBQ210...       3.0   \n",
       "2  https://m.media-amazon.com/images/I/2143EBQ210...       3.0   \n",
       "3  https://m.media-amazon.com/images/I/2143EBQ210...       3.0   \n",
       "4  https://m.media-amazon.com/images/I/2143EBQ210...       3.0   \n",
       "\n",
       "                                           reviewUrl  totalReviews  price  \\\n",
       "0  https://www.amazon.com/product-reviews/B0000SX2UC          14.0    0.0   \n",
       "1  https://www.amazon.com/product-reviews/B0000SX2UC          14.0    0.0   \n",
       "2  https://www.amazon.com/product-reviews/B0000SX2UC          14.0    0.0   \n",
       "3  https://www.amazon.com/product-reviews/B0000SX2UC          14.0    0.0   \n",
       "4  https://www.amazon.com/product-reviews/B0000SX2UC          14.0    0.0   \n",
       "\n",
       "   originalPrice           name  rating_y               date verified  \\\n",
       "0            0.0          Janet       3.0   October 11, 2005    False   \n",
       "1            0.0     Luke Wyatt       1.0    January 7, 2004    False   \n",
       "2            0.0         Brooke       5.0  December 30, 2003    False   \n",
       "3            0.0  amy m. teague       3.0     March 18, 2004    False   \n",
       "4            0.0  tristazbimmer       4.0    August 28, 2005    False   \n",
       "\n",
       "                                        title_y  \\\n",
       "0                   Def not best, but not worst   \n",
       "1                   Text Messaging Doesn't Work   \n",
       "2                               Love This Phone   \n",
       "3                       Love the Phone, BUT...!   \n",
       "4  Great phone service and options, lousy case!   \n",
       "\n",
       "                                                body  helpfulVotes  \n",
       "0  I had the Samsung A600 for awhile which is abs...           1.0  \n",
       "1  Due to a software issue between Nokia and Spri...          17.0  \n",
       "2  This is a great, reliable phone. I also purcha...           5.0  \n",
       "3  I love the phone and all, because I really did...           1.0  \n",
       "4  The phone has been great for every purpose it ...           1.0  "
      ]
     },
     "execution_count": 4,
     "metadata": {},
     "output_type": "execute_result"
    }
   ],
   "source": [
    "df = pd.merge(item, review, how='right', on='asin')\n",
    "df.head()"
   ]
  },
  {
   "cell_type": "markdown",
   "metadata": {},
   "source": [
    "**Remove all unnecessary columns**"
   ]
  },
  {
   "cell_type": "code",
   "execution_count": 5,
   "metadata": {},
   "outputs": [],
   "source": [
    "df = df[['asin', 'brand', 'rating_x', 'totalReviews', 'rating_y', 'title_y', 'body', 'helpfulVotes']]\n",
    "#df.head()"
   ]
  },
  {
   "cell_type": "markdown",
   "metadata": {},
   "source": [
    "**Find if have null value**"
   ]
  },
  {
   "cell_type": "code",
   "execution_count": 6,
   "metadata": {},
   "outputs": [
    {
     "data": {
      "text/plain": [
       "asin                7\n",
       "brand             207\n",
       "rating_x            7\n",
       "totalReviews        7\n",
       "rating_y            7\n",
       "title_y            21\n",
       "body               28\n",
       "helpfulVotes    40771\n",
       "dtype: int64"
      ]
     },
     "execution_count": 6,
     "metadata": {},
     "output_type": "execute_result"
    }
   ],
   "source": [
    "df.isnull().sum()"
   ]
  },
  {
   "cell_type": "code",
   "execution_count": 7,
   "metadata": {},
   "outputs": [],
   "source": [
    "del df['helpfulVotes']"
   ]
  },
  {
   "cell_type": "code",
   "execution_count": 8,
   "metadata": {},
   "outputs": [],
   "source": [
    "#df.isnull().sum()"
   ]
  },
  {
   "cell_type": "code",
   "execution_count": 9,
   "metadata": {},
   "outputs": [],
   "source": [
    "df.dropna(inplace=True)"
   ]
  },
  {
   "cell_type": "code",
   "execution_count": 10,
   "metadata": {},
   "outputs": [
    {
     "data": {
      "text/plain": [
       "asin            0\n",
       "brand           0\n",
       "rating_x        0\n",
       "totalReviews    0\n",
       "rating_y        0\n",
       "title_y         0\n",
       "body            0\n",
       "dtype: int64"
      ]
     },
     "execution_count": 10,
     "metadata": {},
     "output_type": "execute_result"
    }
   ],
   "source": [
    "df.isnull().sum()"
   ]
  },
  {
   "cell_type": "code",
   "execution_count": 11,
   "metadata": {},
   "outputs": [],
   "source": [
    "#len(df['asin'])"
   ]
  },
  {
   "cell_type": "code",
   "execution_count": 12,
   "metadata": {},
   "outputs": [],
   "source": [
    "#df.head()"
   ]
  },
  {
   "cell_type": "markdown",
   "metadata": {},
   "source": [
    "**Finding all companies within one column**"
   ]
  },
  {
   "cell_type": "code",
   "execution_count": 13,
   "metadata": {},
   "outputs": [
    {
     "data": {
      "text/plain": [
       "array(['Motorola', 'Nokia', 'Samsung', 'HUAWEI', 'Sony', 'Apple',\n",
       "       'Google', 'ASUS', 'OnePlus', 'Xiaomi'], dtype=object)"
      ]
     },
     "execution_count": 13,
     "metadata": {},
     "output_type": "execute_result"
    }
   ],
   "source": [
    "df['brand'].unique()"
   ]
  },
  {
   "cell_type": "code",
   "execution_count": 14,
   "metadata": {},
   "outputs": [],
   "source": [
    "#Motorola = df[df['brand'].str.contains('Motorola')]\n",
    "#c = Motorola.get('rating_x').mean() \n",
    "#print(c)"
   ]
  },
  {
   "cell_type": "markdown",
   "metadata": {},
   "source": [
    "**Average of Brands over-all Products Rating**"
   ]
  },
  {
   "cell_type": "code",
   "execution_count": 15,
   "metadata": {},
   "outputs": [
    {
     "name": "stdout",
     "output_type": "stream",
     "text": [
      "Motorola : 3.7190036068530206\n",
      "Nokia : 3.359638146770375\n",
      "Samsung : 3.7238840614212596\n",
      "HUAWEI : 4.288988764044944\n",
      "Sony : 3.7275743348982786\n",
      "Apple : 3.826321928460342\n",
      "Google : 3.76378763866878\n",
      "ASUS : 3.79203187250996\n",
      "OnePlus : 4.314409221902016\n",
      "Xiaomi : 4.388256631149399\n"
     ]
    }
   ],
   "source": [
    "for x in df['brand'].unique():\n",
    "    t = df[df['brand'].str.contains(x)]\n",
    "    i = t.get('rating_x').mean()\n",
    "    #tt = []\n",
    "    #tt.append(i)\n",
    "    print(x,':',i)"
   ]
  },
  {
   "cell_type": "markdown",
   "metadata": {},
   "source": [
    "**Total Customer Reviews on Each Brand**"
   ]
  },
  {
   "cell_type": "code",
   "execution_count": 16,
   "metadata": {},
   "outputs": [
    {
     "name": "stdout",
     "output_type": "stream",
     "text": [
      "Motorola : 3148618.0\n",
      "Nokia : 2782036.0\n",
      "Samsung : 14046400.0\n",
      "HUAWEI : 856116.0\n",
      "Sony : 734071.0\n",
      "Apple : 1448456.0\n",
      "Google : 1007423.0\n",
      "ASUS : 32066.0\n",
      "OnePlus : 22910.0\n",
      "Xiaomi : 1300122.0\n"
     ]
    }
   ],
   "source": [
    "for x in df['brand'].unique():\n",
    "    t2 = df[df['brand'].str.contains(x)]\n",
    "    i2 = t2.get('totalReviews').sum()\n",
    "    print(x,':',i2)"
   ]
  },
  {
   "cell_type": "markdown",
   "metadata": {},
   "source": [
    "**Total Mobile count**"
   ]
  },
  {
   "cell_type": "code",
   "execution_count": 17,
   "metadata": {},
   "outputs": [
    {
     "data": {
      "image/png": "[encoded data removed]",
      "text/plain": [
       "<Figure size 720x432 with 1 Axes>"
      ]
     },
     "metadata": {
      "needs_background": "light"
     },
     "output_type": "display_data"
    }
   ],
   "source": [
    "plt.figure(figsize=(10,6))\n",
    "ax = sns.countplot(x = 'brand', data =df,palette = \"Set3\")\n",
    "plt.xlabel('Brands',fontsize=15)\n",
    "plt.ylabel('Count',fontsize=15)\n",
    "plt.show()\n",
    "#for p in ax.patches:\n",
    "   #ax.annotate('{:.1f}'.format(p.get_height()), (p.get_x()+0.25, p.get_height()+0.01))"
   ]
  },
  {
   "cell_type": "markdown",
   "metadata": {},
   "source": [
    "**WordCloud**"
   ]
  },
  {
   "cell_type": "code",
   "execution_count": 18,
   "metadata": {},
   "outputs": [
    {
     "data": {
      "image/png": "[encoded data removed]",
      "text/plain": [
       "<Figure size 432x288 with 1 Axes>"
      ]
     },
     "metadata": {
      "needs_background": "light"
     },
     "output_type": "display_data"
    }
   ],
   "source": [
    "from wordcloud import WordCloud\n",
    "\n",
    "mycloud = WordCloud(background_color=\"white\",repeat=False,max_words=100).generate(str(df['body']))\n",
    "plt.imshow(mycloud) \n",
    "plt.axis(\"off\")\n",
    "plt.show()"
   ]
  },
  {
   "cell_type": "markdown",
   "metadata": {},
   "source": [
    "**title_y and body columns all word lower case and also remove puntuation**"
   ]
  },
  {
   "cell_type": "code",
   "execution_count": 19,
   "metadata": {},
   "outputs": [],
   "source": [
    "df['body'] = df['body'].str.lower()\n",
    "df['title_y'] = df['title_y'].str.lower()"
   ]
  },
  {
   "cell_type": "code",
   "execution_count": 20,
   "metadata": {},
   "outputs": [],
   "source": [
    "import re\n",
    "import string\n",
    "import nltk"
   ]
  },
  {
   "cell_type": "code",
   "execution_count": 21,
   "metadata": {},
   "outputs": [],
   "source": [
    "def remove_punctuation(text):\n",
    "    no_punct = ''.join([c for c in text if c not in string.punctuation])\n",
    "    return no_punct"
   ]
  },
  {
   "cell_type": "code",
   "execution_count": 22,
   "metadata": {},
   "outputs": [],
   "source": [
    "df['body'] = df['body'].apply(lambda x: remove_punctuation(x))\n",
    "df['title_y'] = df['title_y'].apply(lambda x: remove_punctuation(x))"
   ]
  },
  {
   "cell_type": "code",
   "execution_count": 23,
   "metadata": {},
   "outputs": [
    {
     "data": {
      "text/html": [
       "<div>\n",
       "<style scoped>\n",
       "    .dataframe tbody tr th:only-of-type {\n",
       "        vertical-align: middle;\n",
       "    }\n",
       "\n",
       "    .dataframe tbody tr th {\n",
       "        vertical-align: top;\n",
       "    }\n",
       "\n",
       "    .dataframe thead th {\n",
       "        text-align: right;\n",
       "    }\n",
       "</style>\n",
       "<table border=\"1\" class=\"dataframe\">\n",
       "  <thead>\n",
       "    <tr style=\"text-align: right;\">\n",
       "      <th></th>\n",
       "      <th>asin</th>\n",
       "      <th>brand</th>\n",
       "      <th>rating_x</th>\n",
       "      <th>totalReviews</th>\n",
       "      <th>rating_y</th>\n",
       "      <th>title_y</th>\n",
       "      <th>body</th>\n",
       "    </tr>\n",
       "  </thead>\n",
       "  <tbody>\n",
       "    <tr>\n",
       "      <th>18</th>\n",
       "      <td>B0009N5L7K</td>\n",
       "      <td>Motorola</td>\n",
       "      <td>3.0</td>\n",
       "      <td>7.0</td>\n",
       "      <td>5.0</td>\n",
       "      <td>excellent product</td>\n",
       "      <td>the product has been very good i had used this...</td>\n",
       "    </tr>\n",
       "    <tr>\n",
       "      <th>19</th>\n",
       "      <td>B0009N5L7K</td>\n",
       "      <td>Motorola</td>\n",
       "      <td>3.0</td>\n",
       "      <td>7.0</td>\n",
       "      <td>1.0</td>\n",
       "      <td>warning</td>\n",
       "      <td>my problems with nextel did not stop when i ca...</td>\n",
       "    </tr>\n",
       "    <tr>\n",
       "      <th>20</th>\n",
       "      <td>B0009N5L7K</td>\n",
       "      <td>Motorola</td>\n",
       "      <td>3.0</td>\n",
       "      <td>7.0</td>\n",
       "      <td>5.0</td>\n",
       "      <td>nextel boost phone</td>\n",
       "      <td>great product that is as great for nextel as i...</td>\n",
       "    </tr>\n",
       "    <tr>\n",
       "      <th>21</th>\n",
       "      <td>B000SKTZ0S</td>\n",
       "      <td>Motorola</td>\n",
       "      <td>2.7</td>\n",
       "      <td>22.0</td>\n",
       "      <td>4.0</td>\n",
       "      <td>nice but</td>\n",
       "      <td>i bought this phone to replace an lg phone tha...</td>\n",
       "    </tr>\n",
       "    <tr>\n",
       "      <th>24</th>\n",
       "      <td>B000SKTZ0S</td>\n",
       "      <td>Motorola</td>\n",
       "      <td>2.7</td>\n",
       "      <td>22.0</td>\n",
       "      <td>5.0</td>\n",
       "      <td>five stars</td>\n",
       "      <td>served me well as a back up phone</td>\n",
       "    </tr>\n",
       "  </tbody>\n",
       "</table>\n",
       "</div>"
      ],
      "text/plain": [
       "          asin     brand  rating_x  totalReviews  rating_y  \\\n",
       "18  B0009N5L7K  Motorola       3.0           7.0       5.0   \n",
       "19  B0009N5L7K  Motorola       3.0           7.0       1.0   \n",
       "20  B0009N5L7K  Motorola       3.0           7.0       5.0   \n",
       "21  B000SKTZ0S  Motorola       2.7          22.0       4.0   \n",
       "24  B000SKTZ0S  Motorola       2.7          22.0       5.0   \n",
       "\n",
       "               title_y                                               body  \n",
       "18   excellent product  the product has been very good i had used this...  \n",
       "19             warning  my problems with nextel did not stop when i ca...  \n",
       "20  nextel boost phone  great product that is as great for nextel as i...  \n",
       "21            nice but  i bought this phone to replace an lg phone tha...  \n",
       "24          five stars                  served me well as a back up phone  "
      ]
     },
     "execution_count": 23,
     "metadata": {},
     "output_type": "execute_result"
    }
   ],
   "source": [
    "df.head()"
   ]
  },
  {
   "cell_type": "markdown",
   "metadata": {},
   "source": [
    "**Count Total Words of comments(body)**"
   ]
  },
  {
   "cell_type": "code",
   "execution_count": 24,
   "metadata": {},
   "outputs": [
    {
     "data": {
      "text/html": [
       "<div>\n",
       "<style scoped>\n",
       "    .dataframe tbody tr th:only-of-type {\n",
       "        vertical-align: middle;\n",
       "    }\n",
       "\n",
       "    .dataframe tbody tr th {\n",
       "        vertical-align: top;\n",
       "    }\n",
       "\n",
       "    .dataframe thead th {\n",
       "        text-align: right;\n",
       "    }\n",
       "</style>\n",
       "<table border=\"1\" class=\"dataframe\">\n",
       "  <thead>\n",
       "    <tr style=\"text-align: right;\">\n",
       "      <th></th>\n",
       "      <th>asin</th>\n",
       "      <th>brand</th>\n",
       "      <th>rating_x</th>\n",
       "      <th>totalReviews</th>\n",
       "      <th>rating_y</th>\n",
       "      <th>title_y</th>\n",
       "      <th>body</th>\n",
       "      <th>total_words_body</th>\n",
       "    </tr>\n",
       "  </thead>\n",
       "  <tbody>\n",
       "    <tr>\n",
       "      <th>18</th>\n",
       "      <td>B0009N5L7K</td>\n",
       "      <td>Motorola</td>\n",
       "      <td>3.0</td>\n",
       "      <td>7.0</td>\n",
       "      <td>5.0</td>\n",
       "      <td>excellent product</td>\n",
       "      <td>the product has been very good i had used this...</td>\n",
       "      <td>32</td>\n",
       "    </tr>\n",
       "    <tr>\n",
       "      <th>19</th>\n",
       "      <td>B0009N5L7K</td>\n",
       "      <td>Motorola</td>\n",
       "      <td>3.0</td>\n",
       "      <td>7.0</td>\n",
       "      <td>1.0</td>\n",
       "      <td>warning</td>\n",
       "      <td>my problems with nextel did not stop when i ca...</td>\n",
       "      <td>474</td>\n",
       "    </tr>\n",
       "    <tr>\n",
       "      <th>20</th>\n",
       "      <td>B0009N5L7K</td>\n",
       "      <td>Motorola</td>\n",
       "      <td>3.0</td>\n",
       "      <td>7.0</td>\n",
       "      <td>5.0</td>\n",
       "      <td>nextel boost phone</td>\n",
       "      <td>great product that is as great for nextel as i...</td>\n",
       "      <td>17</td>\n",
       "    </tr>\n",
       "    <tr>\n",
       "      <th>21</th>\n",
       "      <td>B000SKTZ0S</td>\n",
       "      <td>Motorola</td>\n",
       "      <td>2.7</td>\n",
       "      <td>22.0</td>\n",
       "      <td>4.0</td>\n",
       "      <td>nice but</td>\n",
       "      <td>i bought this phone to replace an lg phone tha...</td>\n",
       "      <td>158</td>\n",
       "    </tr>\n",
       "    <tr>\n",
       "      <th>24</th>\n",
       "      <td>B000SKTZ0S</td>\n",
       "      <td>Motorola</td>\n",
       "      <td>2.7</td>\n",
       "      <td>22.0</td>\n",
       "      <td>5.0</td>\n",
       "      <td>five stars</td>\n",
       "      <td>served me well as a back up phone</td>\n",
       "      <td>8</td>\n",
       "    </tr>\n",
       "  </tbody>\n",
       "</table>\n",
       "</div>"
      ],
      "text/plain": [
       "          asin     brand  rating_x  totalReviews  rating_y  \\\n",
       "18  B0009N5L7K  Motorola       3.0           7.0       5.0   \n",
       "19  B0009N5L7K  Motorola       3.0           7.0       1.0   \n",
       "20  B0009N5L7K  Motorola       3.0           7.0       5.0   \n",
       "21  B000SKTZ0S  Motorola       2.7          22.0       4.0   \n",
       "24  B000SKTZ0S  Motorola       2.7          22.0       5.0   \n",
       "\n",
       "               title_y                                               body  \\\n",
       "18   excellent product  the product has been very good i had used this...   \n",
       "19             warning  my problems with nextel did not stop when i ca...   \n",
       "20  nextel boost phone  great product that is as great for nextel as i...   \n",
       "21            nice but  i bought this phone to replace an lg phone tha...   \n",
       "24          five stars                  served me well as a back up phone   \n",
       "\n",
       "    total_words_body  \n",
       "18                32  \n",
       "19               474  \n",
       "20                17  \n",
       "21               158  \n",
       "24                 8  "
      ]
     },
     "execution_count": 24,
     "metadata": {},
     "output_type": "execute_result"
    }
   ],
   "source": [
    "df['total_words_body'] = df['body'].apply(lambda x:len(x.split()))\n",
    "df.head()"
   ]
  },
  {
   "cell_type": "code",
   "execution_count": 25,
   "metadata": {},
   "outputs": [],
   "source": [
    "#pd.set_option('display.max_colwidth', 500)"
   ]
  },
  {
   "cell_type": "markdown",
   "metadata": {},
   "source": [
    "**Sentimental analyze**"
   ]
  },
  {
   "cell_type": "code",
   "execution_count": 26,
   "metadata": {},
   "outputs": [],
   "source": [
    "from nltk.sentiment.vader import SentimentIntensityAnalyzer"
   ]
  },
  {
   "cell_type": "code",
   "execution_count": 27,
   "metadata": {},
   "outputs": [],
   "source": [
    "sid = SentimentIntensityAnalyzer()"
   ]
  },
  {
   "cell_type": "code",
   "execution_count": 28,
   "metadata": {},
   "outputs": [
    {
     "data": {
      "text/plain": [
       "'excellent product'"
      ]
     },
     "execution_count": 28,
     "metadata": {},
     "output_type": "execute_result"
    }
   ],
   "source": [
    "df['title_y'].iloc[0]"
   ]
  },
  {
   "cell_type": "code",
   "execution_count": 50,
   "metadata": {},
   "outputs": [],
   "source": [
    "X=\"smoki\""
   ]
  },
  {
   "cell_type": "code",
   "execution_count": 51,
   "metadata": {},
   "outputs": [
    {
     "data": {
      "text/plain": [
       "{'neg': 0.0, 'neu': 1.0, 'pos': 0.0, 'compound': 0.0}"
      ]
     },
     "execution_count": 51,
     "metadata": {},
     "output_type": "execute_result"
    }
   ],
   "source": [
    "sid.polarity_scores(x)"
   ]
  },
  {
   "cell_type": "code",
   "execution_count": 29,
   "metadata": {},
   "outputs": [
    {
     "data": {
      "text/plain": [
       "{'neg': 0.0, 'neu': 0.213, 'pos': 0.787, 'compound': 0.5719}"
      ]
     },
     "execution_count": 29,
     "metadata": {},
     "output_type": "execute_result"
    }
   ],
   "source": [
    "sid.polarity_scores(df['title_y'].iloc[0])"
   ]
  },
  {
   "cell_type": "code",
   "execution_count": 30,
   "metadata": {},
   "outputs": [],
   "source": [
    "df['title_score'] = df['title_y'].apply(lambda x: sid.polarity_scores(x))"
   ]
  },
  {
   "cell_type": "code",
   "execution_count": 31,
   "metadata": {},
   "outputs": [],
   "source": [
    "#df.head()"
   ]
  },
  {
   "cell_type": "code",
   "execution_count": 32,
   "metadata": {},
   "outputs": [],
   "source": [
    "df['title_compound'] = df['title_score'].apply(lambda x: x['compound'])"
   ]
  },
  {
   "cell_type": "code",
   "execution_count": 33,
   "metadata": {},
   "outputs": [],
   "source": [
    "#df.head()"
   ]
  },
  {
   "cell_type": "code",
   "execution_count": 34,
   "metadata": {},
   "outputs": [],
   "source": [
    "df['title_com_review'] = df['title_compound'].apply(lambda x: 'pos' if x>= 0.00 else 'neg')"
   ]
  },
  {
   "cell_type": "code",
   "execution_count": 35,
   "metadata": {},
   "outputs": [
    {
     "data": {
      "text/html": [
       "<div>\n",
       "<style scoped>\n",
       "    .dataframe tbody tr th:only-of-type {\n",
       "        vertical-align: middle;\n",
       "    }\n",
       "\n",
       "    .dataframe tbody tr th {\n",
       "        vertical-align: top;\n",
       "    }\n",
       "\n",
       "    .dataframe thead th {\n",
       "        text-align: right;\n",
       "    }\n",
       "</style>\n",
       "<table border=\"1\" class=\"dataframe\">\n",
       "  <thead>\n",
       "    <tr style=\"text-align: right;\">\n",
       "      <th></th>\n",
       "      <th>asin</th>\n",
       "      <th>brand</th>\n",
       "      <th>rating_x</th>\n",
       "      <th>totalReviews</th>\n",
       "      <th>rating_y</th>\n",
       "      <th>title_y</th>\n",
       "      <th>body</th>\n",
       "      <th>total_words_body</th>\n",
       "      <th>title_score</th>\n",
       "      <th>title_compound</th>\n",
       "      <th>title_com_review</th>\n",
       "    </tr>\n",
       "  </thead>\n",
       "  <tbody>\n",
       "    <tr>\n",
       "      <th>18</th>\n",
       "      <td>B0009N5L7K</td>\n",
       "      <td>Motorola</td>\n",
       "      <td>3.0</td>\n",
       "      <td>7.0</td>\n",
       "      <td>5.0</td>\n",
       "      <td>excellent product</td>\n",
       "      <td>the product has been very good i had used this...</td>\n",
       "      <td>32</td>\n",
       "      <td>{'neg': 0.0, 'neu': 0.213, 'pos': 0.787, 'comp...</td>\n",
       "      <td>0.5719</td>\n",
       "      <td>pos</td>\n",
       "    </tr>\n",
       "    <tr>\n",
       "      <th>19</th>\n",
       "      <td>B0009N5L7K</td>\n",
       "      <td>Motorola</td>\n",
       "      <td>3.0</td>\n",
       "      <td>7.0</td>\n",
       "      <td>1.0</td>\n",
       "      <td>warning</td>\n",
       "      <td>my problems with nextel did not stop when i ca...</td>\n",
       "      <td>474</td>\n",
       "      <td>{'neg': 1.0, 'neu': 0.0, 'pos': 0.0, 'compound...</td>\n",
       "      <td>-0.3400</td>\n",
       "      <td>neg</td>\n",
       "    </tr>\n",
       "    <tr>\n",
       "      <th>20</th>\n",
       "      <td>B0009N5L7K</td>\n",
       "      <td>Motorola</td>\n",
       "      <td>3.0</td>\n",
       "      <td>7.0</td>\n",
       "      <td>5.0</td>\n",
       "      <td>nextel boost phone</td>\n",
       "      <td>great product that is as great for nextel as i...</td>\n",
       "      <td>17</td>\n",
       "      <td>{'neg': 0.0, 'neu': 0.426, 'pos': 0.574, 'comp...</td>\n",
       "      <td>0.4019</td>\n",
       "      <td>pos</td>\n",
       "    </tr>\n",
       "    <tr>\n",
       "      <th>21</th>\n",
       "      <td>B000SKTZ0S</td>\n",
       "      <td>Motorola</td>\n",
       "      <td>2.7</td>\n",
       "      <td>22.0</td>\n",
       "      <td>4.0</td>\n",
       "      <td>nice but</td>\n",
       "      <td>i bought this phone to replace an lg phone tha...</td>\n",
       "      <td>158</td>\n",
       "      <td>{'neg': 0.0, 'neu': 0.345, 'pos': 0.655, 'comp...</td>\n",
       "      <td>0.2263</td>\n",
       "      <td>pos</td>\n",
       "    </tr>\n",
       "    <tr>\n",
       "      <th>24</th>\n",
       "      <td>B000SKTZ0S</td>\n",
       "      <td>Motorola</td>\n",
       "      <td>2.7</td>\n",
       "      <td>22.0</td>\n",
       "      <td>5.0</td>\n",
       "      <td>five stars</td>\n",
       "      <td>served me well as a back up phone</td>\n",
       "      <td>8</td>\n",
       "      <td>{'neg': 0.0, 'neu': 1.0, 'pos': 0.0, 'compound...</td>\n",
       "      <td>0.0000</td>\n",
       "      <td>pos</td>\n",
       "    </tr>\n",
       "  </tbody>\n",
       "</table>\n",
       "</div>"
      ],
      "text/plain": [
       "          asin     brand  rating_x  totalReviews  rating_y  \\\n",
       "18  B0009N5L7K  Motorola       3.0           7.0       5.0   \n",
       "19  B0009N5L7K  Motorola       3.0           7.0       1.0   \n",
       "20  B0009N5L7K  Motorola       3.0           7.0       5.0   \n",
       "21  B000SKTZ0S  Motorola       2.7          22.0       4.0   \n",
       "24  B000SKTZ0S  Motorola       2.7          22.0       5.0   \n",
       "\n",
       "               title_y                                               body  \\\n",
       "18   excellent product  the product has been very good i had used this...   \n",
       "19             warning  my problems with nextel did not stop when i ca...   \n",
       "20  nextel boost phone  great product that is as great for nextel as i...   \n",
       "21            nice but  i bought this phone to replace an lg phone tha...   \n",
       "24          five stars                  served me well as a back up phone   \n",
       "\n",
       "    total_words_body                                        title_score  \\\n",
       "18                32  {'neg': 0.0, 'neu': 0.213, 'pos': 0.787, 'comp...   \n",
       "19               474  {'neg': 1.0, 'neu': 0.0, 'pos': 0.0, 'compound...   \n",
       "20                17  {'neg': 0.0, 'neu': 0.426, 'pos': 0.574, 'comp...   \n",
       "21               158  {'neg': 0.0, 'neu': 0.345, 'pos': 0.655, 'comp...   \n",
       "24                 8  {'neg': 0.0, 'neu': 1.0, 'pos': 0.0, 'compound...   \n",
       "\n",
       "    title_compound title_com_review  \n",
       "18          0.5719              pos  \n",
       "19         -0.3400              neg  \n",
       "20          0.4019              pos  \n",
       "21          0.2263              pos  \n",
       "24          0.0000              pos  "
      ]
     },
     "execution_count": 35,
     "metadata": {},
     "output_type": "execute_result"
    }
   ],
   "source": [
    "df.head()"
   ]
  },
  {
   "cell_type": "code",
   "execution_count": 36,
   "metadata": {},
   "outputs": [
    {
     "data": {
      "text/plain": [
       "pos    58792\n",
       "neg     8957\n",
       "Name: title_com_review, dtype: int64"
      ]
     },
     "execution_count": 36,
     "metadata": {},
     "output_type": "execute_result"
    }
   ],
   "source": [
    "df['title_com_review'].value_counts()"
   ]
  },
  {
   "cell_type": "code",
   "execution_count": 37,
   "metadata": {},
   "outputs": [],
   "source": [
    "df['body_score'] = df['body'].apply(lambda x: sid.polarity_scores(x))"
   ]
  },
  {
   "cell_type": "code",
   "execution_count": 38,
   "metadata": {},
   "outputs": [
    {
     "data": {
      "text/html": [
       "<div>\n",
       "<style scoped>\n",
       "    .dataframe tbody tr th:only-of-type {\n",
       "        vertical-align: middle;\n",
       "    }\n",
       "\n",
       "    .dataframe tbody tr th {\n",
       "        vertical-align: top;\n",
       "    }\n",
       "\n",
       "    .dataframe thead th {\n",
       "        text-align: right;\n",
       "    }\n",
       "</style>\n",
       "<table border=\"1\" class=\"dataframe\">\n",
       "  <thead>\n",
       "    <tr style=\"text-align: right;\">\n",
       "      <th></th>\n",
       "      <th>asin</th>\n",
       "      <th>brand</th>\n",
       "      <th>rating_x</th>\n",
       "      <th>totalReviews</th>\n",
       "      <th>rating_y</th>\n",
       "      <th>title_y</th>\n",
       "      <th>body</th>\n",
       "      <th>total_words_body</th>\n",
       "      <th>title_score</th>\n",
       "      <th>title_compound</th>\n",
       "      <th>title_com_review</th>\n",
       "      <th>body_score</th>\n",
       "    </tr>\n",
       "  </thead>\n",
       "  <tbody>\n",
       "    <tr>\n",
       "      <th>18</th>\n",
       "      <td>B0009N5L7K</td>\n",
       "      <td>Motorola</td>\n",
       "      <td>3.0</td>\n",
       "      <td>7.0</td>\n",
       "      <td>5.0</td>\n",
       "      <td>excellent product</td>\n",
       "      <td>the product has been very good i had used this...</td>\n",
       "      <td>32</td>\n",
       "      <td>{'neg': 0.0, 'neu': 0.213, 'pos': 0.787, 'comp...</td>\n",
       "      <td>0.5719</td>\n",
       "      <td>pos</td>\n",
       "      <td>{'neg': 0.0, 'neu': 0.701, 'pos': 0.299, 'comp...</td>\n",
       "    </tr>\n",
       "    <tr>\n",
       "      <th>19</th>\n",
       "      <td>B0009N5L7K</td>\n",
       "      <td>Motorola</td>\n",
       "      <td>3.0</td>\n",
       "      <td>7.0</td>\n",
       "      <td>1.0</td>\n",
       "      <td>warning</td>\n",
       "      <td>my problems with nextel did not stop when i ca...</td>\n",
       "      <td>474</td>\n",
       "      <td>{'neg': 1.0, 'neu': 0.0, 'pos': 0.0, 'compound...</td>\n",
       "      <td>-0.3400</td>\n",
       "      <td>neg</td>\n",
       "      <td>{'neg': 0.06, 'neu': 0.876, 'pos': 0.064, 'com...</td>\n",
       "    </tr>\n",
       "    <tr>\n",
       "      <th>20</th>\n",
       "      <td>B0009N5L7K</td>\n",
       "      <td>Motorola</td>\n",
       "      <td>3.0</td>\n",
       "      <td>7.0</td>\n",
       "      <td>5.0</td>\n",
       "      <td>nextel boost phone</td>\n",
       "      <td>great product that is as great for nextel as i...</td>\n",
       "      <td>17</td>\n",
       "      <td>{'neg': 0.0, 'neu': 0.426, 'pos': 0.574, 'comp...</td>\n",
       "      <td>0.4019</td>\n",
       "      <td>pos</td>\n",
       "      <td>{'neg': 0.0, 'neu': 0.562, 'pos': 0.438, 'comp...</td>\n",
       "    </tr>\n",
       "    <tr>\n",
       "      <th>21</th>\n",
       "      <td>B000SKTZ0S</td>\n",
       "      <td>Motorola</td>\n",
       "      <td>2.7</td>\n",
       "      <td>22.0</td>\n",
       "      <td>4.0</td>\n",
       "      <td>nice but</td>\n",
       "      <td>i bought this phone to replace an lg phone tha...</td>\n",
       "      <td>158</td>\n",
       "      <td>{'neg': 0.0, 'neu': 0.345, 'pos': 0.655, 'comp...</td>\n",
       "      <td>0.2263</td>\n",
       "      <td>pos</td>\n",
       "      <td>{'neg': 0.058, 'neu': 0.808, 'pos': 0.134, 'co...</td>\n",
       "    </tr>\n",
       "    <tr>\n",
       "      <th>24</th>\n",
       "      <td>B000SKTZ0S</td>\n",
       "      <td>Motorola</td>\n",
       "      <td>2.7</td>\n",
       "      <td>22.0</td>\n",
       "      <td>5.0</td>\n",
       "      <td>five stars</td>\n",
       "      <td>served me well as a back up phone</td>\n",
       "      <td>8</td>\n",
       "      <td>{'neg': 0.0, 'neu': 1.0, 'pos': 0.0, 'compound...</td>\n",
       "      <td>0.0000</td>\n",
       "      <td>pos</td>\n",
       "      <td>{'neg': 0.0, 'neu': 0.741, 'pos': 0.259, 'comp...</td>\n",
       "    </tr>\n",
       "  </tbody>\n",
       "</table>\n",
       "</div>"
      ],
      "text/plain": [
       "          asin     brand  rating_x  totalReviews  rating_y  \\\n",
       "18  B0009N5L7K  Motorola       3.0           7.0       5.0   \n",
       "19  B0009N5L7K  Motorola       3.0           7.0       1.0   \n",
       "20  B0009N5L7K  Motorola       3.0           7.0       5.0   \n",
       "21  B000SKTZ0S  Motorola       2.7          22.0       4.0   \n",
       "24  B000SKTZ0S  Motorola       2.7          22.0       5.0   \n",
       "\n",
       "               title_y                                               body  \\\n",
       "18   excellent product  the product has been very good i had used this...   \n",
       "19             warning  my problems with nextel did not stop when i ca...   \n",
       "20  nextel boost phone  great product that is as great for nextel as i...   \n",
       "21            nice but  i bought this phone to replace an lg phone tha...   \n",
       "24          five stars                  served me well as a back up phone   \n",
       "\n",
       "    total_words_body                                        title_score  \\\n",
       "18                32  {'neg': 0.0, 'neu': 0.213, 'pos': 0.787, 'comp...   \n",
       "19               474  {'neg': 1.0, 'neu': 0.0, 'pos': 0.0, 'compound...   \n",
       "20                17  {'neg': 0.0, 'neu': 0.426, 'pos': 0.574, 'comp...   \n",
       "21               158  {'neg': 0.0, 'neu': 0.345, 'pos': 0.655, 'comp...   \n",
       "24                 8  {'neg': 0.0, 'neu': 1.0, 'pos': 0.0, 'compound...   \n",
       "\n",
       "    title_compound title_com_review  \\\n",
       "18          0.5719              pos   \n",
       "19         -0.3400              neg   \n",
       "20          0.4019              pos   \n",
       "21          0.2263              pos   \n",
       "24          0.0000              pos   \n",
       "\n",
       "                                           body_score  \n",
       "18  {'neg': 0.0, 'neu': 0.701, 'pos': 0.299, 'comp...  \n",
       "19  {'neg': 0.06, 'neu': 0.876, 'pos': 0.064, 'com...  \n",
       "20  {'neg': 0.0, 'neu': 0.562, 'pos': 0.438, 'comp...  \n",
       "21  {'neg': 0.058, 'neu': 0.808, 'pos': 0.134, 'co...  \n",
       "24  {'neg': 0.0, 'neu': 0.741, 'pos': 0.259, 'comp...  "
      ]
     },
     "execution_count": 38,
     "metadata": {},
     "output_type": "execute_result"
    }
   ],
   "source": [
    "df.head()"
   ]
  },
  {
   "cell_type": "code",
   "execution_count": 39,
   "metadata": {},
   "outputs": [],
   "source": [
    "df['body_compound'] = df['body_score'].apply(lambda x: x['compound'])"
   ]
  },
  {
   "cell_type": "code",
   "execution_count": 40,
   "metadata": {},
   "outputs": [],
   "source": [
    "df['body_com_review'] = df['body_compound'].apply(lambda x: 'pos' if x>= 0.00 else 'neg')"
   ]
  },
  {
   "cell_type": "code",
   "execution_count": 41,
   "metadata": {},
   "outputs": [
    {
     "data": {
      "text/html": [
       "<div>\n",
       "<style scoped>\n",
       "    .dataframe tbody tr th:only-of-type {\n",
       "        vertical-align: middle;\n",
       "    }\n",
       "\n",
       "    .dataframe tbody tr th {\n",
       "        vertical-align: top;\n",
       "    }\n",
       "\n",
       "    .dataframe thead th {\n",
       "        text-align: right;\n",
       "    }\n",
       "</style>\n",
       "<table border=\"1\" class=\"dataframe\">\n",
       "  <thead>\n",
       "    <tr style=\"text-align: right;\">\n",
       "      <th></th>\n",
       "      <th>asin</th>\n",
       "      <th>brand</th>\n",
       "      <th>rating_x</th>\n",
       "      <th>totalReviews</th>\n",
       "      <th>rating_y</th>\n",
       "      <th>title_y</th>\n",
       "      <th>body</th>\n",
       "      <th>total_words_body</th>\n",
       "      <th>title_score</th>\n",
       "      <th>title_compound</th>\n",
       "      <th>title_com_review</th>\n",
       "      <th>body_score</th>\n",
       "      <th>body_compound</th>\n",
       "      <th>body_com_review</th>\n",
       "    </tr>\n",
       "  </thead>\n",
       "  <tbody>\n",
       "    <tr>\n",
       "      <th>18</th>\n",
       "      <td>B0009N5L7K</td>\n",
       "      <td>Motorola</td>\n",
       "      <td>3.0</td>\n",
       "      <td>7.0</td>\n",
       "      <td>5.0</td>\n",
       "      <td>excellent product</td>\n",
       "      <td>the product has been very good i had used this...</td>\n",
       "      <td>32</td>\n",
       "      <td>{'neg': 0.0, 'neu': 0.213, 'pos': 0.787, 'comp...</td>\n",
       "      <td>0.5719</td>\n",
       "      <td>pos</td>\n",
       "      <td>{'neg': 0.0, 'neu': 0.701, 'pos': 0.299, 'comp...</td>\n",
       "      <td>0.8777</td>\n",
       "      <td>pos</td>\n",
       "    </tr>\n",
       "    <tr>\n",
       "      <th>19</th>\n",
       "      <td>B0009N5L7K</td>\n",
       "      <td>Motorola</td>\n",
       "      <td>3.0</td>\n",
       "      <td>7.0</td>\n",
       "      <td>1.0</td>\n",
       "      <td>warning</td>\n",
       "      <td>my problems with nextel did not stop when i ca...</td>\n",
       "      <td>474</td>\n",
       "      <td>{'neg': 1.0, 'neu': 0.0, 'pos': 0.0, 'compound...</td>\n",
       "      <td>-0.3400</td>\n",
       "      <td>neg</td>\n",
       "      <td>{'neg': 0.06, 'neu': 0.876, 'pos': 0.064, 'com...</td>\n",
       "      <td>-0.7075</td>\n",
       "      <td>neg</td>\n",
       "    </tr>\n",
       "    <tr>\n",
       "      <th>20</th>\n",
       "      <td>B0009N5L7K</td>\n",
       "      <td>Motorola</td>\n",
       "      <td>3.0</td>\n",
       "      <td>7.0</td>\n",
       "      <td>5.0</td>\n",
       "      <td>nextel boost phone</td>\n",
       "      <td>great product that is as great for nextel as i...</td>\n",
       "      <td>17</td>\n",
       "      <td>{'neg': 0.0, 'neu': 0.426, 'pos': 0.574, 'comp...</td>\n",
       "      <td>0.4019</td>\n",
       "      <td>pos</td>\n",
       "      <td>{'neg': 0.0, 'neu': 0.562, 'pos': 0.438, 'comp...</td>\n",
       "      <td>0.8979</td>\n",
       "      <td>pos</td>\n",
       "    </tr>\n",
       "    <tr>\n",
       "      <th>21</th>\n",
       "      <td>B000SKTZ0S</td>\n",
       "      <td>Motorola</td>\n",
       "      <td>2.7</td>\n",
       "      <td>22.0</td>\n",
       "      <td>4.0</td>\n",
       "      <td>nice but</td>\n",
       "      <td>i bought this phone to replace an lg phone tha...</td>\n",
       "      <td>158</td>\n",
       "      <td>{'neg': 0.0, 'neu': 0.345, 'pos': 0.655, 'comp...</td>\n",
       "      <td>0.2263</td>\n",
       "      <td>pos</td>\n",
       "      <td>{'neg': 0.058, 'neu': 0.808, 'pos': 0.134, 'co...</td>\n",
       "      <td>0.9389</td>\n",
       "      <td>pos</td>\n",
       "    </tr>\n",
       "    <tr>\n",
       "      <th>24</th>\n",
       "      <td>B000SKTZ0S</td>\n",
       "      <td>Motorola</td>\n",
       "      <td>2.7</td>\n",
       "      <td>22.0</td>\n",
       "      <td>5.0</td>\n",
       "      <td>five stars</td>\n",
       "      <td>served me well as a back up phone</td>\n",
       "      <td>8</td>\n",
       "      <td>{'neg': 0.0, 'neu': 1.0, 'pos': 0.0, 'compound...</td>\n",
       "      <td>0.0000</td>\n",
       "      <td>pos</td>\n",
       "      <td>{'neg': 0.0, 'neu': 0.741, 'pos': 0.259, 'comp...</td>\n",
       "      <td>0.2732</td>\n",
       "      <td>pos</td>\n",
       "    </tr>\n",
       "  </tbody>\n",
       "</table>\n",
       "</div>"
      ],
      "text/plain": [
       "          asin     brand  rating_x  totalReviews  rating_y  \\\n",
       "18  B0009N5L7K  Motorola       3.0           7.0       5.0   \n",
       "19  B0009N5L7K  Motorola       3.0           7.0       1.0   \n",
       "20  B0009N5L7K  Motorola       3.0           7.0       5.0   \n",
       "21  B000SKTZ0S  Motorola       2.7          22.0       4.0   \n",
       "24  B000SKTZ0S  Motorola       2.7          22.0       5.0   \n",
       "\n",
       "               title_y                                               body  \\\n",
       "18   excellent product  the product has been very good i had used this...   \n",
       "19             warning  my problems with nextel did not stop when i ca...   \n",
       "20  nextel boost phone  great product that is as great for nextel as i...   \n",
       "21            nice but  i bought this phone to replace an lg phone tha...   \n",
       "24          five stars                  served me well as a back up phone   \n",
       "\n",
       "    total_words_body                                        title_score  \\\n",
       "18                32  {'neg': 0.0, 'neu': 0.213, 'pos': 0.787, 'comp...   \n",
       "19               474  {'neg': 1.0, 'neu': 0.0, 'pos': 0.0, 'compound...   \n",
       "20                17  {'neg': 0.0, 'neu': 0.426, 'pos': 0.574, 'comp...   \n",
       "21               158  {'neg': 0.0, 'neu': 0.345, 'pos': 0.655, 'comp...   \n",
       "24                 8  {'neg': 0.0, 'neu': 1.0, 'pos': 0.0, 'compound...   \n",
       "\n",
       "    title_compound title_com_review  \\\n",
       "18          0.5719              pos   \n",
       "19         -0.3400              neg   \n",
       "20          0.4019              pos   \n",
       "21          0.2263              pos   \n",
       "24          0.0000              pos   \n",
       "\n",
       "                                           body_score  body_compound  \\\n",
       "18  {'neg': 0.0, 'neu': 0.701, 'pos': 0.299, 'comp...         0.8777   \n",
       "19  {'neg': 0.06, 'neu': 0.876, 'pos': 0.064, 'com...        -0.7075   \n",
       "20  {'neg': 0.0, 'neu': 0.562, 'pos': 0.438, 'comp...         0.8979   \n",
       "21  {'neg': 0.058, 'neu': 0.808, 'pos': 0.134, 'co...         0.9389   \n",
       "24  {'neg': 0.0, 'neu': 0.741, 'pos': 0.259, 'comp...         0.2732   \n",
       "\n",
       "   body_com_review  \n",
       "18             pos  \n",
       "19             neg  \n",
       "20             pos  \n",
       "21             pos  \n",
       "24             pos  "
      ]
     },
     "execution_count": 41,
     "metadata": {},
     "output_type": "execute_result"
    }
   ],
   "source": [
    "df.head()"
   ]
  },
  {
   "cell_type": "code",
   "execution_count": 42,
   "metadata": {},
   "outputs": [
    {
     "data": {
      "text/plain": [
       "Text(0.5, 1.0, 'Title sentiment analysis')"
      ]
     },
     "execution_count": 42,
     "metadata": {},
     "output_type": "execute_result"
    },
    {
     "data": {
      "image/png": "[encoded data removed]",
      "text/plain": [
       "<Figure size 720x432 with 1 Axes>"
      ]
     },
     "metadata": {
      "needs_background": "light"
     },
     "output_type": "display_data"
    }
   ],
   "source": [
    "plt.figure(figsize=(10,6))\n",
    "sns.countplot(x = 'brand', hue = 'title_com_review', data = df)\n",
    "plt.xlabel('Title name positive and Negative', fontsize = 18)\n",
    "plt.ylabel('Count', fontsize = 18)\n",
    "plt.title('Title sentiment analysis', fontsize = 24)"
   ]
  },
  {
   "cell_type": "code",
   "execution_count": 43,
   "metadata": {},
   "outputs": [
    {
     "data": {
      "text/plain": [
       "Text(0.5, 1.0, 'Comments sentiment analysis')"
      ]
     },
     "execution_count": 43,
     "metadata": {},
     "output_type": "execute_result"
    },
    {
     "data": {
      "image/png": "[encoded data removed]",
      "text/plain": [
       "<Figure size 720x432 with 1 Axes>"
      ]
     },
     "metadata": {
      "needs_background": "light"
     },
     "output_type": "display_data"
    }
   ],
   "source": [
    "plt.figure(figsize=(10,6))\n",
    "sns.countplot(x = 'brand', hue = 'body_com_review', data = df)\n",
    "plt.xlabel('Comments positive and Negative', fontsize = 18)\n",
    "plt.ylabel('Count', fontsize = 18)\n",
    "plt.title('Comments sentiment analysis', fontsize = 24)"
   ]
  },
  {
   "cell_type": "code",
   "execution_count": 44,
   "metadata": {},
   "outputs": [
    {
     "data": {
      "text/plain": [
       "Text(0, 0.5, 'Total Count')"
      ]
     },
     "execution_count": 44,
     "metadata": {},
     "output_type": "execute_result"
    },
    {
     "data": {
      "image/png": "[encoded data removed]",
      "text/plain": [
       "<Figure size 720x432 with 1 Axes>"
      ]
     },
     "metadata": {
      "needs_background": "light"
     },
     "output_type": "display_data"
    }
   ],
   "source": [
    "plt.figure(figsize=(10,6))\n",
    "sns.countplot(x = 'title_com_review', data = df)\n",
    "plt.xlabel('Total Title positive and Negative', fontsize = 18)\n",
    "plt.ylabel('Total Count', fontsize = 18)"
   ]
  },
  {
   "cell_type": "code",
   "execution_count": 45,
   "metadata": {},
   "outputs": [
    {
     "data": {
      "text/plain": [
       "Text(0.5, 0, 'Total comments positive and Neg')"
      ]
     },
     "execution_count": 45,
     "metadata": {},
     "output_type": "execute_result"
    },
    {
     "data": {
      "image/png": "[encoded data removed]",
      "text/plain": [
       "<Figure size 720x432 with 1 Axes>"
      ]
     },
     "metadata": {
      "needs_background": "light"
     },
     "output_type": "display_data"
    }
   ],
   "source": [
    "plt.figure(figsize=(10,6))\n",
    "sns.countplot(x = 'body_com_review', data = df)\n",
    "plt.xlabel('Total comments positive and Neg')"
   ]
  },
  {
   "cell_type": "code",
   "execution_count": 46,
   "metadata": {},
   "outputs": [
    {
     "data": {
      "text/plain": [
       "pos    53991\n",
       "neg    13758\n",
       "Name: body_com_review, dtype: int64"
      ]
     },
     "execution_count": 46,
     "metadata": {},
     "output_type": "execute_result"
    }
   ],
   "source": [
    "df['body_com_review'].value_counts()"
   ]
  },
  {
   "cell_type": "code",
   "execution_count": 47,
   "metadata": {},
   "outputs": [],
   "source": [
    "#df.head()"
   ]
  },
  {
   "cell_type": "code",
   "execution_count": 48,
   "metadata": {},
   "outputs": [
    {
     "data": {
      "text/plain": [
       "Text(0.5, 1.0, 'Comments sentiment analysis vs rating_y')"
      ]
     },
     "execution_count": 48,
     "metadata": {},
     "output_type": "execute_result"
    },
    {
     "data": {
      "image/png": "[encoded data removed]",
      "text/plain": [
       "<Figure size 720x432 with 1 Axes>"
      ]
     },
     "metadata": {
      "needs_background": "light"
     },
     "output_type": "display_data"
    }
   ],
   "source": [
    "plt.figure(figsize=(10,6))\n",
    "sns.pointplot(x = 'brand', y = 'rating_y', hue = 'body_com_review', data = df)\n",
    "plt.title('Comments sentiment analysis vs rating_y', fontsize = 24)"
   ]
  },
  {
   "cell_type": "code",
   "execution_count": 49,
   "metadata": {},
   "outputs": [
    {
     "data": {
      "text/plain": [
       "Text(0.5, 1.0, 'Comments sentiment analysis vs rating_y')"
      ]
     },
     "execution_count": 49,
     "metadata": {},
     "output_type": "execute_result"
    },
    {
     "data": {
      "image/png": "[encoded data removed]",
      "text/plain": [
       "<Figure size 720x432 with 1 Axes>"
      ]
     },
     "metadata": {
      "needs_background": "light"
     },
     "output_type": "display_data"
    }
   ],
   "source": [
    "plt.figure(figsize=(10,6))\n",
    "sns.pointplot(x = 'brand', y = 'rating_y', hue = 'title_com_review', data = df)\n",
    "plt.title('Comments sentiment analysis vs rating_y', fontsize = 24)"
   ]
  },
  {
   "cell_type": "code",
   "execution_count": null,
   "metadata": {},
   "outputs": [],
   "source": []
  }
 ],
 "metadata": {
  "kernelspec": {
   "display_name": "Python 3 (ipykernel)",
   "language": "python",
   "name": "python3"
  },
  "language_info": {
   "codemirror_mode": {
    "name": "ipython",
    "version": 3
   },
   "file_extension": ".py",
   "mimetype": "text/x-python",
   "name": "python",
   "nbconvert_exporter": "python",
   "pygments_lexer": "ipython3",
   "version": "3.9.13"
  }
 },
 "nbformat": 4,
 "nbformat_minor": 1
}
